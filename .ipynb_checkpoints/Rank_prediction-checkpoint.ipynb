{
 "cells": [
  {
   "cell_type": "code",
   "execution_count": null,
   "id": "cd3bf997-ef75-4fc5-8972-3b3b1f1738cf",
   "metadata": {},
   "outputs": [],
   "source": []
  }
 ],
 "metadata": {
  "kernelspec": {
   "display_name": "",
   "name": ""
  },
  "language_info": {
   "name": ""
  }
 },
 "nbformat": 4,
 "nbformat_minor": 5
}
